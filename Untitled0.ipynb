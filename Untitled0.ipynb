{
 "metadata": {
  "name": ""
 },
 "nbformat": 3,
 "nbformat_minor": 0,
 "worksheets": [
  {
   "cells": [
    {
     "cell_type": "code",
     "collapsed": false,
     "input": [
      "    from sklearn.ensemble import RandomForestClassifier\n",
      "    import pandas as pd\n",
      "    from numpy import genfromtxt, savetxt, shape\n",
      "    print \"start loading data...\" \n",
      "    traindata = pd.read_csv(\"./ato135_dev_woe_tm.csv.test\")\n",
      "    #traindata = pd.read_csv(\"./ato135_dev_woe_tm.csv\")\n",
      "    print traindata.__str__()\n",
      "    print \"loading done...\" \n",
      "    feature_names = list(traindata.columns)\n",
      "    feature_names.remove(\"trans_id\")   \n",
      "    feature_names.remove(\"ato_label\")   \n",
      "    feature_names.remove(\"unit_wgt\")  \n",
      "    feature_names.remove(\"dollar_wgt\")   \n",
      "    features = traindata[feature_names].values\n",
      "    target = traindata[\"ato_label\"].values\n",
      "    print \"start fitting ....\" \n",
      "    #rf = RandomForestClassifier(n_estimators=2, max_depth=None,bootstrap=False, min_samples_split=1,random_state=0)\n",
      "    #multi-core\n",
      "    \n",
      "    rf = RandomForestClassifier(verbose=1, n_estimators=8, n_jobs=4, criterion='gini', max_depth=None,bootstrap=False, min_samples_split=2,random_state=0)\n",
      "    rf.fit(features, target)\n",
      "    print \"done fitting, start predicting...\"\n",
      "    probs = rf.predict_proba(features)\n",
      "    \n",
      "    print \"done predicting.\"\n",
      "    print type(probs), shape(probs)\n",
      "    print probs.__str__\n",
      "    \n",
      "    savetxt('./rf_out.csv', probs, delimiter=',', fmt='%f')\n",
      "\n",
      "    "
     ],
     "language": "python",
     "metadata": {},
     "outputs": [
      {
       "output_type": "stream",
       "stream": "stdout",
       "text": [
        "start loading data...\n",
        "<class 'pandas.core.frame.DataFrame'>\n",
        "Int64Index: 99999 entries, 0 to 99998\n",
        "Columns: 188 entries, trans_id to ws_ms_amt_dk_20_s2\n",
        "dtypes: float64(186), int64(2)"
       ]
      },
      {
       "output_type": "stream",
       "stream": "stdout",
       "text": [
        "\n",
        "loading done...\n",
        "start fitting ...."
       ]
      },
      {
       "output_type": "stream",
       "stream": "stdout",
       "text": [
        "\n"
       ]
      },
      {
       "output_type": "stream",
       "stream": "stderr",
       "text": [
        "/Users/yanzzhou/Downloads/anaconda/lib/python2.7/site-packages/pandas/core/config.py:570: DeprecationWarning: height has been deprecated.\n",
        "\n",
        "  warnings.warn(d.msg, DeprecationWarning)\n"
       ]
      },
      {
       "output_type": "stream",
       "stream": "stdout",
       "text": [
        "done fitting, start predicting...\n"
       ]
      },
      {
       "output_type": "stream",
       "stream": "stderr",
       "text": [
        "[Parallel(n_jobs=4)]: Done   1 out of   4 | elapsed:   10.3s remaining:   30.9s\n",
        "[Parallel(n_jobs=4)]: Done   4 out of   4 | elapsed:   10.3s finished\n"
       ]
      },
      {
       "output_type": "stream",
       "stream": "stdout",
       "text": [
        "done predicting.\n",
        "<type 'numpy.ndarray'> (99999, 2)\n",
        "<method-wrapper '__str__' of numpy.ndarray object at 0x104627280>\n"
       ]
      },
      {
       "output_type": "stream",
       "stream": "stderr",
       "text": [
        "[Parallel(n_jobs=4)]: Done   1 out of   4 | elapsed:    0.4s remaining:    1.3s\n",
        "[Parallel(n_jobs=4)]: Done   4 out of   4 | elapsed:    0.5s finished\n"
       ]
      }
     ],
     "prompt_number": 31
    },
    {
     "cell_type": "code",
     "collapsed": false,
     "input": [
      "type(traindata.columns)\n"
     ],
     "language": "python",
     "metadata": {},
     "outputs": [
      {
       "ename": "NameError",
       "evalue": "name 'traindata' is not defined",
       "output_type": "pyerr",
       "traceback": [
        "\u001b[0;31m---------------------------------------------------------------------------\u001b[0m\n\u001b[0;31mNameError\u001b[0m                                 Traceback (most recent call last)",
        "\u001b[0;32m<ipython-input-20-dc4f5b92b34b>\u001b[0m in \u001b[0;36m<module>\u001b[0;34m()\u001b[0m\n\u001b[0;32m----> 1\u001b[0;31m \u001b[0mtype\u001b[0m\u001b[0;34m(\u001b[0m\u001b[0mtraindata\u001b[0m\u001b[0;34m.\u001b[0m\u001b[0mcolumns\u001b[0m\u001b[0;34m)\u001b[0m\u001b[0;34m\u001b[0m\u001b[0m\n\u001b[0m",
        "\u001b[0;31mNameError\u001b[0m: name 'traindata' is not defined"
       ]
      }
     ],
     "prompt_number": 20
    },
    {
     "cell_type": "code",
     "collapsed": false,
     "input": [
      "for i in range(len(probs)):\n",
      "    if target[i] == 1:    print i,\": \",target[i], probs[i,:]\n",
      "    if i>1000: break\n",
      "        "
     ],
     "language": "python",
     "metadata": {},
     "outputs": [
      {
       "output_type": "stream",
       "stream": "stdout",
       "text": [
        "86 :  1 [ 0.125  0.875]\n",
        "97 :  1 [ 0.125  0.875]\n",
        "129 :  1 [ 0.  1.]\n",
        "212 :  1 [ 0.  1.]\n",
        "224 :  1 [ 0.  1.]\n",
        "270 :  1 [ 0.  1.]\n",
        "272 :  1 [ 0.  1.]\n",
        "283 :  1 [ 0.  1.]\n",
        "286 :  1 [ 0.375  0.625]\n",
        "287 :  1 [ 0.  1.]\n",
        "289 :  1 [ 0.125  0.875]\n",
        "291 :  1 [ 0.  1.]\n",
        "307 :  1 [ 0.  1.]\n",
        "369 :  1 [ 0.  1.]\n",
        "432 :  1 [ 0.  1.]\n",
        "490 :  1 [ 0.  1.]\n",
        "563 :  1 [ 0.125  0.875]\n",
        "567 :  1 [ 0.375  0.625]\n",
        "585 :  1 [ 0.  1.]\n",
        "600 :  1 [ 0.375  0.625]\n",
        "715 :  1 [ 0.  1.]\n",
        "721 :  1 [ 0.  1.]\n",
        "754 :  1 [ 0.125  0.875]\n",
        "774 :  1 [ 0.  1.]\n",
        "825 :  1 [ 0.  1.]\n",
        "899 :  1 [ 0.  1.]\n",
        "905 :  1 [ 0.  1.]\n"
       ]
      }
     ],
     "prompt_number": 23
    },
    {
     "cell_type": "code",
     "collapsed": false,
     "input": [
      "type(traindata.columns)"
     ],
     "language": "python",
     "metadata": {},
     "outputs": [],
     "prompt_number": "*"
    },
    {
     "cell_type": "code",
     "collapsed": false,
     "input": [
      "type(features[1:10,1])"
     ],
     "language": "python",
     "metadata": {},
     "outputs": [
      {
       "metadata": {},
       "output_type": "pyout",
       "prompt_number": 62,
       "text": [
        "numpy.ndarray"
       ]
      }
     ],
     "prompt_number": 62
    },
    {
     "cell_type": "code",
     "collapsed": false,
     "input": [
      "print str.__class__"
     ],
     "language": "python",
     "metadata": {},
     "outputs": [],
     "prompt_number": "*"
    },
    {
     "cell_type": "code",
     "collapsed": false,
     "input": [
      "hi = \"i am \u65b0 \u95fb\"\n",
      "print \"%s****%5.2f\" % (hi, 1.5)"
     ],
     "language": "python",
     "metadata": {},
     "outputs": [
      {
       "output_type": "stream",
       "stream": "stdout",
       "text": [
        "i am \u65b0 \u95fb**** 1.50\n"
       ]
      }
     ],
     "prompt_number": 7
    },
    {
     "cell_type": "code",
     "collapsed": false,
     "input": [
      "a=[2,3];b=[2,3]\n",
      "print a==b\n",
      "print a is b\n"
     ],
     "language": "python",
     "metadata": {},
     "outputs": [
      {
       "output_type": "stream",
       "stream": "stdout",
       "text": [
        "True\n",
        "False\n"
       ]
      }
     ],
     "prompt_number": 11
    },
    {
     "cell_type": "code",
     "collapsed": false,
     "input": [
      "import json.\n",
      " \n",
      "json_input = '{ \"one\": 1, \"two\": { \"list\": [ {\"item\":\"A\"},{\"item\":\"B\"} ] } }'\n",
      " \n",
      "try:\n",
      "    decoded = json.loads(json_input)\n",
      " \n",
      "    # pretty printing of json-formatted string\n",
      "    print json.dumps(decoded, sort_keys=True, indent=4)\n",
      " \n",
      "    print \"JSON parsing example: \", decoded['one']\n",
      "    print \"Complex JSON parsing example: \", decoded['two']['list'][1]['item']\n",
      " \n",
      "except (ValueError, KeyError, TypeError):\n",
      "    print \"JSON format error\""
     ],
     "language": "python",
     "metadata": {},
     "outputs": [
      {
       "output_type": "stream",
       "stream": "stdout",
       "text": [
        "{\n",
        "    \"one\": 1, \n",
        "    \"two\": {\n",
        "        \"list\": [\n",
        "            {\n",
        "                \"item\": \"A\"\n",
        "            }, \n",
        "            {\n",
        "                \"item\": \"B\"\n",
        "            }\n",
        "        ]\n",
        "    }\n",
        "}\n",
        "JSON parsing example:  1\n",
        "Complex JSON parsing example:  B\n"
       ]
      }
     ],
     "prompt_number": 32
    },
    {
     "cell_type": "code",
     "collapsed": false,
     "input": [
      "import json\n",
      "part_nums = ['ECA-1EHG102','CL05B103KB5NNNC','CC0402KRX5R8BB104']\n",
      "\n",
      "\"\"\"\n",
      "def json_list(list):\n",
      "    lst = []\n",
      "    for pn in list:\n",
      "        d = {}\n",
      "        d['mpn']=pn\n",
      "        lst.append(d)\n",
      "    return json.dumps(lst)\n",
      "\n",
      "js = json.loads(json_list(part_nums))\n",
      "\"\"\"\n",
      "js = json.dumps([dict(mpn=i) for i in part_nums], sort_keys=True, indent=8)\n",
      "print js\n",
      "js2=json.loads(js)\n",
      "print js2[1][\"mpn\"]"
     ],
     "language": "python",
     "metadata": {},
     "outputs": [
      {
       "output_type": "stream",
       "stream": "stdout",
       "text": [
        "[\n",
        "        {\n",
        "                \"mpn\": \"ECA-1EHG102\"\n",
        "        }, \n",
        "        {\n",
        "                \"mpn\": \"CL05B103KB5NNNC\"\n",
        "        }, \n",
        "        {\n",
        "                \"mpn\": \"CC0402KRX5R8BB104\"\n",
        "        }\n",
        "]\n",
        "CL05B103KB5NNNC\n"
       ]
      }
     ],
     "prompt_number": 43
    },
    {
     "cell_type": "code",
     "collapsed": false,
     "input": [
      "!ls -lt"
     ],
     "language": "python",
     "metadata": {},
     "outputs": [
      {
       "output_type": "stream",
       "stream": "stdout",
       "text": [
        "total 13724920\r\n",
        "-rw-r--r--  1 yanzzhou  100026087         975 Dec 23 13:44 FactorialInJava.class\r\n",
        "-rw-r--r--  1 yanzzhou  100026087        1260 Dec 23 13:44 FactorialInJava.java\r\n",
        "-rw-r--r--  1 yanzzhou  100026087       10543 Dec 23 11:26 Untitled0.ipynb\r\n",
        "-rw-r--r--  1 yanzzhou  100026087     1799982 Dec 21 01:04 rf_out.csv\r\n",
        "-rw-r--r--  1 yanzzhou  100026087     1799982 Dec 19 14:53 rf_out2.csv\r\n",
        "-rw-r--r--  1 yanzzhou  100026087         132 Dec 19 14:50 test.joblib\r\n",
        "-rw-r--r--  1 yanzzhou  100026087    73599344 Dec 19 14:50 test.joblib_01.npy\r\n",
        "-rw-r--r--  1 yanzzhou  100026087        1205 Dec 19 14:50 rf.py\r\n",
        "-rw-r--r--  1 yanzzhou  100026087        1204 Dec 19 14:49 rf.py.bak\r\n",
        "-rw-r--r--  1 yanzzhou  100026087     1799982 Dec 19 00:26 rf_out1.csv\r\n",
        "-rw-r--r--  1 yanzzhou  100026087      199998 Dec 17 20:17 label.txt\r\n",
        "-rw-r--r--  1 yanzzhou  100026087   178557614 Dec 17 16:55 ato135_dev_woe_tm.csv.test\r\n",
        "-rw-r--r--  1 yanzzhou  100026087         559 Dec 17 16:17 log.log\r\n",
        "-rwxr-xr-x  1 yanzzhou  100026087  6769344316 Dec 17 13:54 \u001b[31mato135_dev_woe_tm.csv\u001b[m\u001b[m\r\n",
        "-rw-r--r--  1 yanzzhou  100026087         574 Dec 11 14:17 Test.class\r\n",
        "-rw-r--r--  1 yanzzhou  100026087         116 Dec 11 14:17 Test.java\r\n"
       ]
      }
     ],
     "prompt_number": 45
    },
    {
     "cell_type": "code",
     "collapsed": false,
     "input": [],
     "language": "python",
     "metadata": {},
     "outputs": []
    }
   ],
   "metadata": {}
  }
 ]
}